{
 "cells": [
  {
   "cell_type": "code",
   "execution_count": 25,
   "metadata": {},
   "outputs": [],
   "source": [
    "import seaborn as sns\n",
    "import pandas as pd\n",
    "import statistics as st"
   ]
  },
  {
   "cell_type": "code",
   "execution_count": 26,
   "metadata": {},
   "outputs": [
    {
     "data": {
      "text/html": [
       "<div>\n",
       "<style scoped>\n",
       "    .dataframe tbody tr th:only-of-type {\n",
       "        vertical-align: middle;\n",
       "    }\n",
       "\n",
       "    .dataframe tbody tr th {\n",
       "        vertical-align: top;\n",
       "    }\n",
       "\n",
       "    .dataframe thead th {\n",
       "        text-align: right;\n",
       "    }\n",
       "</style>\n",
       "<table border=\"1\" class=\"dataframe\">\n",
       "  <thead>\n",
       "    <tr style=\"text-align: right;\">\n",
       "      <th></th>\n",
       "      <th>App_Name</th>\n",
       "      <th>Category</th>\n",
       "      <th>Rating</th>\n",
       "      <th>Reviews</th>\n",
       "      <th>Installs</th>\n",
       "      <th>Size</th>\n",
       "      <th>Price</th>\n",
       "      <th>Content_Rating</th>\n",
       "      <th>Last_Updated</th>\n",
       "      <th>Minimum_Version</th>\n",
       "      <th>Latest_Version</th>\n",
       "    </tr>\n",
       "  </thead>\n",
       "  <tbody>\n",
       "    <tr>\n",
       "      <td>0</td>\n",
       "      <td>DoorDash - Food Delivery</td>\n",
       "      <td>FOOD_AND_DRINK</td>\n",
       "      <td>4.548561573</td>\n",
       "      <td>305034.0</td>\n",
       "      <td>5,000,000+</td>\n",
       "      <td>Varies with device</td>\n",
       "      <td>0</td>\n",
       "      <td>Everyone</td>\n",
       "      <td>29-Mar-19</td>\n",
       "      <td>Varies with device</td>\n",
       "      <td>Varies with device</td>\n",
       "    </tr>\n",
       "    <tr>\n",
       "      <td>1</td>\n",
       "      <td>TripAdvisor Hotels Flights Restaurants Attract...</td>\n",
       "      <td>TRAVEL_AND_LOCAL</td>\n",
       "      <td>4.400671482</td>\n",
       "      <td>1207922.0</td>\n",
       "      <td>100,000,000+</td>\n",
       "      <td>Varies with device</td>\n",
       "      <td>0</td>\n",
       "      <td>Everyone</td>\n",
       "      <td>29-Mar-19</td>\n",
       "      <td>Varies with device</td>\n",
       "      <td>Varies with device</td>\n",
       "    </tr>\n",
       "    <tr>\n",
       "      <td>2</td>\n",
       "      <td>Peapod</td>\n",
       "      <td>SHOPPING</td>\n",
       "      <td>3.656329393</td>\n",
       "      <td>1967.0</td>\n",
       "      <td>100,000+</td>\n",
       "      <td>1.4M</td>\n",
       "      <td>0</td>\n",
       "      <td>Everyone</td>\n",
       "      <td>20-Sep-18</td>\n",
       "      <td>5.0 and up</td>\n",
       "      <td>2.2.0</td>\n",
       "    </tr>\n",
       "    <tr>\n",
       "      <td>3</td>\n",
       "      <td>foodpanda - Local Food Delivery</td>\n",
       "      <td>FOOD_AND_DRINK</td>\n",
       "      <td>4.107232571</td>\n",
       "      <td>389154.0</td>\n",
       "      <td>10,000,000+</td>\n",
       "      <td>16M</td>\n",
       "      <td>0</td>\n",
       "      <td>Everyone</td>\n",
       "      <td>22-Mar-19</td>\n",
       "      <td>4.2 and up</td>\n",
       "      <td>4.18.2</td>\n",
       "    </tr>\n",
       "    <tr>\n",
       "      <td>4</td>\n",
       "      <td>My CookBook Pro (Ad Free)</td>\n",
       "      <td>FOOD_AND_DRINK</td>\n",
       "      <td>4.647752285</td>\n",
       "      <td>2291.0</td>\n",
       "      <td>10,000+</td>\n",
       "      <td>Varies with device</td>\n",
       "      <td>$5.99</td>\n",
       "      <td>Everyone</td>\n",
       "      <td>1-Apr-19</td>\n",
       "      <td>Varies with device</td>\n",
       "      <td>Varies with device</td>\n",
       "    </tr>\n",
       "    <tr>\n",
       "      <td>5</td>\n",
       "      <td>Safeway Online Shopping</td>\n",
       "      <td>FOOD_AND_DRINK</td>\n",
       "      <td>3.82532239</td>\n",
       "      <td>2559.0</td>\n",
       "      <td>100,000+</td>\n",
       "      <td>23M</td>\n",
       "      <td>0</td>\n",
       "      <td>Everyone</td>\n",
       "      <td>29-Mar-19</td>\n",
       "      <td>5.0 and up</td>\n",
       "      <td>7.6.0</td>\n",
       "    </tr>\n",
       "    <tr>\n",
       "      <td>6</td>\n",
       "      <td>Yelp: Food, Shopping, Services Nearby</td>\n",
       "      <td>TRAVEL_AND_LOCAL</td>\n",
       "      <td>4.267267704</td>\n",
       "      <td>421918.0</td>\n",
       "      <td>10,000,000+</td>\n",
       "      <td>Varies with device</td>\n",
       "      <td>0</td>\n",
       "      <td>Teen</td>\n",
       "      <td>28-Mar-19</td>\n",
       "      <td>Varies with device</td>\n",
       "      <td>Varies with device</td>\n",
       "    </tr>\n",
       "  </tbody>\n",
       "</table>\n",
       "</div>"
      ],
      "text/plain": [
       "                                            App_Name          Category  \\\n",
       "0                           DoorDash - Food Delivery    FOOD_AND_DRINK   \n",
       "1  TripAdvisor Hotels Flights Restaurants Attract...  TRAVEL_AND_LOCAL   \n",
       "2                                             Peapod          SHOPPING   \n",
       "3                    foodpanda - Local Food Delivery    FOOD_AND_DRINK   \n",
       "4                          My CookBook Pro (Ad Free)    FOOD_AND_DRINK   \n",
       "5                            Safeway Online Shopping    FOOD_AND_DRINK   \n",
       "6              Yelp: Food, Shopping, Services Nearby  TRAVEL_AND_LOCAL   \n",
       "\n",
       "        Rating    Reviews      Installs                Size   Price  \\\n",
       "0  4.548561573   305034.0    5,000,000+  Varies with device       0   \n",
       "1  4.400671482  1207922.0  100,000,000+  Varies with device       0   \n",
       "2  3.656329393     1967.0      100,000+                1.4M       0   \n",
       "3  4.107232571   389154.0   10,000,000+                 16M       0   \n",
       "4  4.647752285     2291.0       10,000+  Varies with device  $5.99    \n",
       "5   3.82532239     2559.0      100,000+                 23M       0   \n",
       "6  4.267267704   421918.0   10,000,000+  Varies with device       0   \n",
       "\n",
       "  Content_Rating Last_Updated     Minimum_Version      Latest_Version  \n",
       "0       Everyone    29-Mar-19  Varies with device  Varies with device  \n",
       "1       Everyone    29-Mar-19  Varies with device  Varies with device  \n",
       "2       Everyone    20-Sep-18          5.0 and up               2.2.0  \n",
       "3       Everyone    22-Mar-19          4.2 and up              4.18.2  \n",
       "4       Everyone     1-Apr-19  Varies with device  Varies with device  \n",
       "5       Everyone    29-Mar-19          5.0 and up               7.6.0  \n",
       "6           Teen    28-Mar-19  Varies with device  Varies with device  "
      ]
     },
     "execution_count": 26,
     "metadata": {},
     "output_type": "execute_result"
    }
   ],
   "source": [
    "df = pd.read_csv(\"D:\\Data_Sets\\Google-Playstore-32K.csv\")\n",
    "df.head(7)"
   ]
  },
  {
   "cell_type": "code",
   "execution_count": 27,
   "metadata": {},
   "outputs": [
    {
     "data": {
      "text/plain": [
       "App_Name           0\n",
       "Category           0\n",
       "Rating             0\n",
       "Reviews            7\n",
       "Installs           0\n",
       "Size               0\n",
       "Price              0\n",
       "Content_Rating     0\n",
       "Last_Updated       0\n",
       "Minimum_Version    0\n",
       "Latest_Version     1\n",
       "dtype: int64"
      ]
     },
     "execution_count": 27,
     "metadata": {},
     "output_type": "execute_result"
    }
   ],
   "source": [
    "#check the number of missing values\n",
    "df.isnull().sum()"
   ]
  },
  {
   "cell_type": "code",
   "execution_count": 28,
   "metadata": {},
   "outputs": [],
   "source": [
    "def abc(series):\n",
    "    return series.fillna(st.median(series))\n",
    "\n",
    "\n",
    "\n",
    "#command to fill the empty cells\n",
    "df.Reviews = df[\"Reviews\"].transform(abc)"
   ]
  },
  {
   "cell_type": "code",
   "execution_count": 29,
   "metadata": {},
   "outputs": [],
   "source": [
    "def xyz(series):\n",
    "    return series.fillna(st.mode(series))\n",
    "\n",
    "\n",
    "\n",
    "#command to fill the empty cells\n",
    "df.Latest_Version = df[\"Latest_Version\"].transform(xyz)"
   ]
  },
  {
   "cell_type": "code",
   "execution_count": 30,
   "metadata": {},
   "outputs": [
    {
     "data": {
      "text/plain": [
       "App_Name           0\n",
       "Category           0\n",
       "Rating             0\n",
       "Reviews            0\n",
       "Installs           0\n",
       "Size               0\n",
       "Price              0\n",
       "Content_Rating     0\n",
       "Last_Updated       0\n",
       "Minimum_Version    0\n",
       "Latest_Version     0\n",
       "dtype: int64"
      ]
     },
     "execution_count": 30,
     "metadata": {},
     "output_type": "execute_result"
    }
   ],
   "source": [
    "#again checking number of missing values\n",
    "#and there are no empty cells in the Reviews and Latest_Version Column\n",
    "df.isnull().sum()"
   ]
  },
  {
   "cell_type": "code",
   "execution_count": 31,
   "metadata": {},
   "outputs": [],
   "source": [
    "#Now all the NA values are removed,so now we will clean the data"
   ]
  },
  {
   "cell_type": "code",
   "execution_count": 32,
   "metadata": {},
   "outputs": [
    {
     "data": {
      "text/html": [
       "<div>\n",
       "<style scoped>\n",
       "    .dataframe tbody tr th:only-of-type {\n",
       "        vertical-align: middle;\n",
       "    }\n",
       "\n",
       "    .dataframe tbody tr th {\n",
       "        vertical-align: top;\n",
       "    }\n",
       "\n",
       "    .dataframe thead th {\n",
       "        text-align: right;\n",
       "    }\n",
       "</style>\n",
       "<table border=\"1\" class=\"dataframe\">\n",
       "  <thead>\n",
       "    <tr style=\"text-align: right;\">\n",
       "      <th></th>\n",
       "      <th>App_Name</th>\n",
       "      <th>Category</th>\n",
       "      <th>Rating</th>\n",
       "      <th>Reviews</th>\n",
       "      <th>Installs</th>\n",
       "      <th>Size</th>\n",
       "      <th>Price</th>\n",
       "      <th>Content_Rating</th>\n",
       "      <th>Last_Updated</th>\n",
       "      <th>Minimum_Version</th>\n",
       "      <th>Latest_Version</th>\n",
       "    </tr>\n",
       "  </thead>\n",
       "  <tbody>\n",
       "    <tr>\n",
       "      <td>6941</td>\n",
       "      <td>ELer Japanese - NHK News</td>\n",
       "      <td>Podcasts</td>\n",
       "      <td>Lessons</td>\n",
       "      <td>3490176.0</td>\n",
       "      <td>EDUCATION</td>\n",
       "      <td>4.705075264</td>\n",
       "      <td>1458</td>\n",
       "      <td>100,000+</td>\n",
       "      <td>9.5M</td>\n",
       "      <td>0</td>\n",
       "      <td>Everyone</td>\n",
       "    </tr>\n",
       "  </tbody>\n",
       "</table>\n",
       "</div>"
      ],
      "text/plain": [
       "                      App_Name   Category    Rating    Reviews   Installs  \\\n",
       "6941  ELer Japanese - NHK News   Podcasts   Lessons  3490176.0  EDUCATION   \n",
       "\n",
       "             Size Price Content_Rating Last_Updated Minimum_Version  \\\n",
       "6941  4.705075264  1458       100,000+         9.5M               0   \n",
       "\n",
       "     Latest_Version  \n",
       "6941       Everyone  "
      ]
     },
     "execution_count": 32,
     "metadata": {},
     "output_type": "execute_result"
    }
   ],
   "source": [
    "outlier1 = df[df.Installs == \"EDUCATION\"]\n",
    "outlier1"
   ]
  },
  {
   "cell_type": "code",
   "execution_count": 33,
   "metadata": {},
   "outputs": [],
   "source": [
    "df.drop([6941],inplace=True)"
   ]
  },
  {
   "cell_type": "code",
   "execution_count": 34,
   "metadata": {},
   "outputs": [],
   "source": [
    "df[\"Installs\"] = df[\"Installs\"].apply(lambda x: str(x).replace(\"+\",\"\") if \"+\" in str(x) else str(x))\n",
    "df[\"Installs\"] = df[\"Installs\"].apply(lambda x: str(x).replace(\",\",\"\") if \",\" in str(x) else str(x))\n",
    "df[\"Installs\"] = df[\"Installs\"].apply(lambda x: float(x))"
   ]
  },
  {
   "cell_type": "code",
   "execution_count": 35,
   "metadata": {},
   "outputs": [
    {
     "name": "stdout",
     "output_type": "stream",
     "text": [
      "Int64Index([13504], dtype='int64')\n",
      "Int64Index([23457], dtype='int64')\n"
     ]
    }
   ],
   "source": [
    "outlier2 = df.index[df.Price == \"2.4M\"]\n",
    "outlier3 = df.index[df.Price==\"Varies with device\"]\n",
    "print(outlier2)\n",
    "print(outlier3)"
   ]
  },
  {
   "cell_type": "code",
   "execution_count": 36,
   "metadata": {},
   "outputs": [],
   "source": [
    "df.drop([13504],inplace=True)\n",
    "df.drop([23457],inplace=True)"
   ]
  },
  {
   "cell_type": "code",
   "execution_count": 37,
   "metadata": {},
   "outputs": [],
   "source": [
    "df[\"Price\"] = df[\"Price\"].apply(lambda x: str(x).replace(\"$\",\"\") if \"$\" in str(x) else str(x))\n",
    "df[\"Price\"] = df[\"Price\"].apply(lambda x: float(x))"
   ]
  },
  {
   "cell_type": "code",
   "execution_count": 38,
   "metadata": {},
   "outputs": [],
   "source": [
    "df[\"Rating\"] = df[\"Rating\"].apply(lambda x: float(x))"
   ]
  },
  {
   "cell_type": "code",
   "execution_count": 39,
   "metadata": {},
   "outputs": [
    {
     "data": {
      "text/plain": [
       "App_Name            object\n",
       "Category            object\n",
       "Rating             float64\n",
       "Reviews            float64\n",
       "Installs           float64\n",
       "Size                object\n",
       "Price              float64\n",
       "Content_Rating      object\n",
       "Last_Updated        object\n",
       "Minimum_Version     object\n",
       "Latest_Version      object\n",
       "dtype: object"
      ]
     },
     "execution_count": 39,
     "metadata": {},
     "output_type": "execute_result"
    }
   ],
   "source": [
    "df.dtypes"
   ]
  },
  {
   "cell_type": "code",
   "execution_count": 40,
   "metadata": {},
   "outputs": [],
   "source": [
    "#Reviews was already a float data type,but now we have cleaned the data and converted Installs and Price also to float data"
   ]
  },
  {
   "cell_type": "code",
   "execution_count": 41,
   "metadata": {},
   "outputs": [],
   "source": [
    "from sklearn.linear_model import LogisticRegression\n",
    "#from sklearn.linear_model import LinearRegression\n",
    "logmodel = LogisticRegression()"
   ]
  },
  {
   "cell_type": "code",
   "execution_count": 42,
   "metadata": {},
   "outputs": [
    {
     "data": {
      "text/html": [
       "<div>\n",
       "<style scoped>\n",
       "    .dataframe tbody tr th:only-of-type {\n",
       "        vertical-align: middle;\n",
       "    }\n",
       "\n",
       "    .dataframe tbody tr th {\n",
       "        vertical-align: top;\n",
       "    }\n",
       "\n",
       "    .dataframe thead th {\n",
       "        text-align: right;\n",
       "    }\n",
       "</style>\n",
       "<table border=\"1\" class=\"dataframe\">\n",
       "  <thead>\n",
       "    <tr style=\"text-align: right;\">\n",
       "      <th></th>\n",
       "      <th>Rating</th>\n",
       "      <th>Reviews</th>\n",
       "      <th>Installs</th>\n",
       "      <th>Price</th>\n",
       "    </tr>\n",
       "  </thead>\n",
       "  <tbody>\n",
       "    <tr>\n",
       "      <td>0</td>\n",
       "      <td>4.548562</td>\n",
       "      <td>305034.0</td>\n",
       "      <td>5000000.0</td>\n",
       "      <td>0.00</td>\n",
       "    </tr>\n",
       "    <tr>\n",
       "      <td>1</td>\n",
       "      <td>4.400671</td>\n",
       "      <td>1207922.0</td>\n",
       "      <td>100000000.0</td>\n",
       "      <td>0.00</td>\n",
       "    </tr>\n",
       "    <tr>\n",
       "      <td>2</td>\n",
       "      <td>3.656329</td>\n",
       "      <td>1967.0</td>\n",
       "      <td>100000.0</td>\n",
       "      <td>0.00</td>\n",
       "    </tr>\n",
       "    <tr>\n",
       "      <td>3</td>\n",
       "      <td>4.107233</td>\n",
       "      <td>389154.0</td>\n",
       "      <td>10000000.0</td>\n",
       "      <td>0.00</td>\n",
       "    </tr>\n",
       "    <tr>\n",
       "      <td>4</td>\n",
       "      <td>4.647752</td>\n",
       "      <td>2291.0</td>\n",
       "      <td>10000.0</td>\n",
       "      <td>5.99</td>\n",
       "    </tr>\n",
       "    <tr>\n",
       "      <td>...</td>\n",
       "      <td>...</td>\n",
       "      <td>...</td>\n",
       "      <td>...</td>\n",
       "      <td>...</td>\n",
       "    </tr>\n",
       "    <tr>\n",
       "      <td>31995</td>\n",
       "      <td>4.500000</td>\n",
       "      <td>8.0</td>\n",
       "      <td>50.0</td>\n",
       "      <td>0.00</td>\n",
       "    </tr>\n",
       "    <tr>\n",
       "      <td>31996</td>\n",
       "      <td>3.521127</td>\n",
       "      <td>71.0</td>\n",
       "      <td>10000.0</td>\n",
       "      <td>0.00</td>\n",
       "    </tr>\n",
       "    <tr>\n",
       "      <td>31997</td>\n",
       "      <td>3.994589</td>\n",
       "      <td>924.0</td>\n",
       "      <td>100000.0</td>\n",
       "      <td>0.00</td>\n",
       "    </tr>\n",
       "    <tr>\n",
       "      <td>31998</td>\n",
       "      <td>4.250000</td>\n",
       "      <td>1796.0</td>\n",
       "      <td>100000.0</td>\n",
       "      <td>0.00</td>\n",
       "    </tr>\n",
       "    <tr>\n",
       "      <td>31999</td>\n",
       "      <td>4.224199</td>\n",
       "      <td>3372.0</td>\n",
       "      <td>100000.0</td>\n",
       "      <td>0.00</td>\n",
       "    </tr>\n",
       "  </tbody>\n",
       "</table>\n",
       "<p>31997 rows × 4 columns</p>\n",
       "</div>"
      ],
      "text/plain": [
       "         Rating    Reviews     Installs  Price\n",
       "0      4.548562   305034.0    5000000.0   0.00\n",
       "1      4.400671  1207922.0  100000000.0   0.00\n",
       "2      3.656329     1967.0     100000.0   0.00\n",
       "3      4.107233   389154.0   10000000.0   0.00\n",
       "4      4.647752     2291.0      10000.0   5.99\n",
       "...         ...        ...          ...    ...\n",
       "31995  4.500000        8.0         50.0   0.00\n",
       "31996  3.521127       71.0      10000.0   0.00\n",
       "31997  3.994589      924.0     100000.0   0.00\n",
       "31998  4.250000     1796.0     100000.0   0.00\n",
       "31999  4.224199     3372.0     100000.0   0.00\n",
       "\n",
       "[31997 rows x 4 columns]"
      ]
     },
     "execution_count": 42,
     "metadata": {},
     "output_type": "execute_result"
    }
   ],
   "source": [
    "df1 = df[[\"Rating\",\"Reviews\",\"Installs\",\"Price\"]]\n",
    "df1"
   ]
  },
  {
   "cell_type": "code",
   "execution_count": 43,
   "metadata": {},
   "outputs": [
    {
     "data": {
      "text/plain": [
       "<seaborn.axisgrid.PairGrid at 0x2e50ed58cc8>"
      ]
     },
     "execution_count": 43,
     "metadata": {},
     "output_type": "execute_result"
    },
    {
     "data": {
      "image/png": "[encoded data removed]",
      "text/plain": [
       "<Figure size 720x720 with 20 Axes>"
      ]
     },
     "metadata": {
      "needs_background": "light"
     },
     "output_type": "display_data"
    }
   ],
   "source": [
    "sns.pairplot(df1)"
   ]
  },
  {
   "cell_type": "code",
   "execution_count": null,
   "metadata": {},
   "outputs": [],
   "source": []
  },
  {
   "cell_type": "code",
   "execution_count": 44,
   "metadata": {},
   "outputs": [],
   "source": [
    "#To predict the price of an application"
   ]
  },
  {
   "cell_type": "code",
   "execution_count": 45,
   "metadata": {},
   "outputs": [
    {
     "name": "stderr",
     "output_type": "stream",
     "text": [
      "C:\\Users\\User\\Anaconda3\\lib\\site-packages\\sklearn\\linear_model\\logistic.py:432: FutureWarning: Default solver will be changed to 'lbfgs' in 0.22. Specify a solver to silence this warning.\n",
      "  FutureWarning)\n",
      "C:\\Users\\User\\Anaconda3\\lib\\site-packages\\sklearn\\utils\\validation.py:724: DataConversionWarning: A column-vector y was passed when a 1d array was expected. Please change the shape of y to (n_samples, ), for example using ravel().\n",
      "  y = column_or_1d(y, warn=True)\n",
      "C:\\Users\\User\\Anaconda3\\lib\\site-packages\\sklearn\\linear_model\\logistic.py:469: FutureWarning: Default multi_class will be changed to 'auto' in 0.22. Specify the multi_class option to silence this warning.\n",
      "  \"this warning.\", FutureWarning)\n"
     ]
    },
    {
     "data": {
      "text/plain": [
       "LogisticRegression(C=1.0, class_weight=None, dual=False, fit_intercept=True,\n",
       "                   intercept_scaling=1, l1_ratio=None, max_iter=100,\n",
       "                   multi_class='warn', n_jobs=None, penalty='l2',\n",
       "                   random_state=None, solver='warn', tol=0.0001, verbose=0,\n",
       "                   warm_start=False)"
      ]
     },
     "execution_count": 45,
     "metadata": {},
     "output_type": "execute_result"
    }
   ],
   "source": [
    "x = df[[\"Rating\",\"Reviews\",\"Installs\",\"Price\"]]\n",
    "y = df[[\"Content_Rating\"]]\n",
    "from sklearn.model_selection import train_test_split\n",
    "x_train, x_test, y_train, y_test = train_test_split(x, y, test_size=0.25, random_state=106)\n",
    "logmodel.fit(x_train,y_train)"
   ]
  },
  {
   "cell_type": "code",
   "execution_count": 46,
   "metadata": {},
   "outputs": [
    {
     "data": {
      "text/plain": [
       "array([[-1.14640694e+00, -2.35291570e-07, -9.86508151e-06,\n",
       "        -1.27601571e-01],\n",
       "       [ 9.21679902e-11,  4.87969749e-08,  3.05257447e-09,\n",
       "         6.11924134e-12],\n",
       "       [-2.12308902e-09,  5.74568524e-07, -2.96819358e-07,\n",
       "        -1.66933865e-10],\n",
       "       [-1.03526971e-06,  6.89645021e-08, -6.10094310e-07,\n",
       "        -9.08447359e-08],\n",
       "       [-3.82655130e-10, -3.45094952e-07, -4.85018139e-09,\n",
       "        -2.77162248e-11],\n",
       "       [-9.12159645e-01, -2.81225007e-02,  4.53389694e-07,\n",
       "        -7.19816336e-02]])"
      ]
     },
     "execution_count": 46,
     "metadata": {},
     "output_type": "execute_result"
    }
   ],
   "source": [
    "logmodel.coef_"
   ]
  },
  {
   "cell_type": "code",
   "execution_count": 47,
   "metadata": {},
   "outputs": [
    {
     "data": {
      "text/plain": [
       "array([-2.91503153e-01,  2.16211949e-11, -4.98270294e-10, -2.42842189e-07,\n",
       "       -8.97798426e-11, -2.38384922e-01])"
      ]
     },
     "execution_count": 47,
     "metadata": {},
     "output_type": "execute_result"
    }
   ],
   "source": [
    "logmodel.intercept_"
   ]
  },
  {
   "cell_type": "code",
   "execution_count": 48,
   "metadata": {},
   "outputs": [
    {
     "data": {
      "text/plain": [
       "array(['Everyone'], dtype=object)"
      ]
     },
     "execution_count": 48,
     "metadata": {},
     "output_type": "execute_result"
    }
   ],
   "source": [
    "# Getting predictions from the model \n",
    "predictions = logmodel.predict([[4.647752285,2291,10000,5.99]])\n",
    "predictions"
   ]
  },
  {
   "cell_type": "code",
   "execution_count": 49,
   "metadata": {},
   "outputs": [],
   "source": [
    "predictions = logmodel.predict(x_test)"
   ]
  },
  {
   "cell_type": "code",
   "execution_count": 50,
   "metadata": {},
   "outputs": [],
   "source": [
    "from sklearn.metrics import accuracy_score"
   ]
  },
  {
   "cell_type": "code",
   "execution_count": 51,
   "metadata": {},
   "outputs": [
    {
     "name": "stdout",
     "output_type": "stream",
     "text": [
      "0.85375\n"
     ]
    }
   ],
   "source": [
    "print(accuracy_score(y_test, predictions ))"
   ]
  },
  {
   "cell_type": "code",
   "execution_count": 52,
   "metadata": {},
   "outputs": [],
   "source": [
    "#So the model is complete with an accuracy score of 0.85375\n",
    "#So by using the Logistic Regression Model we deviced a prediction model to estimate the Content Rating of an app"
   ]
  },
  {
   "cell_type": "code",
   "execution_count": null,
   "metadata": {},
   "outputs": [],
   "source": []
  }
 ],
 "metadata": {
  "kernelspec": {
   "display_name": "Python 3",
   "language": "python",
   "name": "python3"
  },
  "language_info": {
   "codemirror_mode": {
    "name": "ipython",
    "version": 3
   },
   "file_extension": ".py",
   "mimetype": "text/x-python",
   "name": "python",
   "nbconvert_exporter": "python",
   "pygments_lexer": "ipython3",
   "version": "3.7.4"
  }
 },
 "nbformat": 4,
 "nbformat_minor": 2
}
