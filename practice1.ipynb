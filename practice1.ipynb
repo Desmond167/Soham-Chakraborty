{
 "cells": [
  {
   "cell_type": "code",
   "execution_count": 4,
   "metadata": {},
   "outputs": [
    {
     "name": "stdout",
     "output_type": "stream",
     "text": [
      "dict_values(['Soham', 20, 123467])\n",
      "{\"name\": \"Soham\", \"age\": 20, \"phn\": 123467}\n"
     ]
    }
   ],
   "source": [
    "import json\n",
    "dic = {\n",
    "    \"name\":\"Soham\",\n",
    "    \"age\":20,\n",
    "    \"phn\":123467\n",
    "}\n",
    "print(dic.values())\n",
    "\n",
    "f = json.dumps(dic)\n",
    "print(f)"
   ]
  },
  {
   "cell_type": "code",
   "execution_count": 1,
   "metadata": {},
   "outputs": [
    {
     "name": "stdout",
     "output_type": "stream",
     "text": [
      "26\n",
      "28.0\n",
      "The missing number is: 2.0\n"
     ]
    }
   ],
   "source": [
    "l =[1,2,4,5,6,8]\n",
    "l_sum = 0\n",
    "for i in l:\n",
    "    l_sum=l_sum+i\n",
    "print(l_sum)\n",
    "sum = ((len(l)+1)*((len(l)+1)+1))/2\n",
    "print(sum)\n",
    "print(\"The missing number is:\",(sum-l_sum))"
   ]
  },
  {
   "cell_type": "code",
   "execution_count": 3,
   "metadata": {},
   "outputs": [
    {
     "name": "stdout",
     "output_type": "stream",
     "text": [
      "11   =>   -1\n",
      "2   =>   3\n",
      "5   =>   6\n",
      "7   =>   9\n",
      "3   =>   4\n",
      "1   =>   4\n",
      "0   =>   4\n",
      "6   =>   9\n",
      "4   =>   9\n",
      "9   =>   10\n",
      "10   =>   -1\n"
     ]
    }
   ],
   "source": [
    "l = [11 , 2 , 5 , 7 , 3 , 1 , 0 , 6 , 4 , 9 , 10]\n",
    "\n",
    "for i in range(0,len(l)):\n",
    "    a = []\n",
    "    for j in range(i+1,len(l)):\n",
    "        if(l[i]<l[j]):\n",
    "            a.append(l[j])\n",
    "    print(l[i],\"  =>  \",min(a, default=-1))"
   ]
  },
  {
   "cell_type": "code",
   "execution_count": 4,
   "metadata": {},
   "outputs": [
    {
     "name": "stdout",
     "output_type": "stream",
     "text": [
      "11    =>   -1\n",
      "2    =>    3\n",
      "5    =>    6\n",
      "7    =>    9\n",
      "3    =>    4\n",
      "1    =>    4\n",
      "0    =>    4\n",
      "6    =>    9\n",
      "4    =>    9\n",
      "9    =>    10\n",
      "10    =>   -1\n"
     ]
    }
   ],
   "source": [
    "a = [11 , 2 , 5 , 7 , 3 , 1 , 0 , 6 , 4 , 9 , 10]\n",
    "def rGrt(l):\n",
    "    c=0\n",
    "    for i in range(0,len(l)):\n",
    "        b=0\n",
    "        for j in range(1,7):\n",
    "            for k in range(i+1,len(l)):\n",
    "                if(l[i]+j==l[k]):\n",
    "                    print(l[i],\"   =>   \",l[k])\n",
    "                    c=c+1\n",
    "                    b=b+1\n",
    "                    break\n",
    "            if(c==1):\n",
    "                c=0\n",
    "                break\n",
    "        if(b==0):\n",
    "            print(l[i],\"   =>   -1\")\n",
    "            continue\n",
    "rGrt(a)"
   ]
  },
  {
   "cell_type": "code",
   "execution_count": 5,
   "metadata": {},
   "outputs": [
    {
     "name": "stdout",
     "output_type": "stream",
     "text": [
      "Hello, I am Soham from Techno India University.I am a Data Science aspirant currently in the 2nd Year of my curriculum.\n",
      "Hello, I am Charlie from Techno India University.I am a Data Science aspirant currently in the 2nd Year of my curriculum.\n",
      "{\"Name\": \"Soham\", \"No. of Vowels\": 38}\n"
     ]
    }
   ],
   "source": [
    "import json\n",
    "count = 0\n",
    "f = open(\"D:intro.txt\",\"r\")\n",
    "text = f.read()\n",
    "print(text)\n",
    "n_text = text.replace(\"Soham\",\"Charlie\")\n",
    "print(n_text)\n",
    "text_list = n_text.split()\n",
    "\n",
    "vowels = [\"a\",\"e\",\"i\",\"o\",\"u\"]\n",
    "for i in text:\n",
    "    if i.lower() in vowels:\n",
    "        count = count+1\n",
    "                \n",
    "dic = {\n",
    "    \"Name\":'Soham',\n",
    "    \"No. of Vowels\":count\n",
    "}\n",
    "print(json.dumps(dic))"
   ]
  },
  {
   "cell_type": "code",
   "execution_count": 6,
   "metadata": {},
   "outputs": [
    {
     "name": "stdout",
     "output_type": "stream",
     "text": [
      "1406906042440\n",
      "[[1, 6], [0, 1], [2, 0]]\n",
      "1406906042440\n",
      "[[1, 6], [0, 1], [2, 0]]\n",
      "1406906043336\n",
      "[[1, 6], [0, 1], [2, 0]]\n",
      "1406906043080\n",
      "[[1, 6], [0, 1], [2, 0]]\n"
     ]
    }
   ],
   "source": [
    "import copy\n",
    "l1=[[1,6],[0,1],[2,0]]\n",
    "print(id(l1))\n",
    "print(l1)\n",
    "l2=l1\n",
    "\n",
    "print(id(l2))\n",
    "print(l2)\n",
    "l3=copy.copy(l1)\n",
    "\n",
    "print(id(l3))\n",
    "print(l3)\n",
    "l4=copy.deepcopy(l1)\n",
    "\n",
    "print(id(l4))\n",
    "print(l4)"
   ]
  },
  {
   "cell_type": "code",
   "execution_count": 2,
   "metadata": {},
   "outputs": [
    {
     "name": "stdout",
     "output_type": "stream",
     "text": [
      "[('A', 1), ('B', 2), ('C', 3), ('D', 4), ('E', 5)]\n",
      "{'A': 1, 'B': 2, 'C': 3, 'D': 4, 'E': 5}\n",
      "[('A', 1), ('B', 2), ('C', 3), ('D', 4), ('E', 5)]\n",
      "[('A', 1), ('B', 2), ('C', 3), ('D', 4), ('E', 5)]\n"
     ]
    }
   ],
   "source": [
    "a1 = [\"A\",\"B\",\"C\",\"D\",\"E\"]\n",
    "a2 = [1,2,3,4,5]\n",
    "z = list(zip(a1,a2))\n",
    "print(z)\n",
    "d = dict(z)\n",
    "print(d)\n",
    "print(list(d.items()))\n",
    "nL = [(i,d.get(i)) for i in d]\n",
    "print(nL)"
   ]
  },
  {
   "cell_type": "code",
   "execution_count": 8,
   "metadata": {},
   "outputs": [
    {
     "name": "stdout",
     "output_type": "stream",
     "text": [
      "{0, 2, 4, 6, 8, 10, 12, 14, 16, 18, 20, 22, 24, 26, 28, 30, 32, 34, 36, 38, 40, 42, 44, 46, 48, 50, 52, 54, 56, 58, 60, 62, 64, 66, 68, 70, 72, 74, 76, 78, 80, 82, 84, 86, 88, 90, 92, 94, 96, 98}\n"
     ]
    }
   ],
   "source": [
    "even = {i for i in range(100) if i%2==0}\n",
    "print(even)"
   ]
  },
  {
   "cell_type": "code",
   "execution_count": 9,
   "metadata": {},
   "outputs": [
    {
     "name": "stdout",
     "output_type": "stream",
     "text": [
      "Enter number of elements:7\n",
      "Enter list,set,dictionary for List Comprehension,Set Comprehension and Dictionary Comprehension respectively:set\n",
      "<class 'set'>\n",
      "{0, 2, 4, 6}\n"
     ]
    }
   ],
   "source": [
    "\n",
    "def l(x):\n",
    "    l1 = [i for i in range(x) if i%2==0]\n",
    "    print(type(l1))\n",
    "    print(l1)\n",
    "def s(x):\n",
    "    s1 = {i for i in range(x) if i%2==0}\n",
    "    print(type(s1))\n",
    "    print(s1)\n",
    "def dic(x):\n",
    "    d1 = {f\"Item {i}\":i for i in range(x) if i%2==0}\n",
    "    print(type(d1))\n",
    "    print(d1)\n",
    "n = int(input(\"Enter number of elements:\"))\n",
    "inp = input(\"Enter list,set,dictionary for List Comprehension,Set Comprehension and Dictionary Comprehension respectively:\")\n",
    "if(inp==\"list\"):\n",
    "    l(n)\n",
    "elif(inp==\"set\"):\n",
    "    s(n)\n",
    "elif(inp==\"dictionary\"):\n",
    "    dic(n)\n",
    "else:\n",
    "    print(\"Wrong Input\")"
   ]
  },
  {
   "cell_type": "code",
   "execution_count": 10,
   "metadata": {},
   "outputs": [
    {
     "name": "stdout",
     "output_type": "stream",
     "text": [
      "Enter the required number:7\n",
      "1\n",
      "2\n",
      "6\n",
      "24\n",
      "120\n",
      "720\n",
      "5040\n"
     ]
    }
   ],
   "source": [
    "def fact(n):\n",
    "    f=1\n",
    "    for i in range(1,n+1):\n",
    "        f = f*i\n",
    "    yield f\n",
    "x = int(input(\"Enter the required number:\"))\n",
    "for i in range(1,x+1):\n",
    "    print(fact(i).__next__())"
   ]
  },
  {
   "cell_type": "code",
   "execution_count": 11,
   "metadata": {},
   "outputs": [
    {
     "name": "stdout",
     "output_type": "stream",
     "text": [
      "<class 're.Match'>\n",
      "(11, 17)\n",
      "['inform', 'inform']\n",
      "<class 're.Match'>\n",
      "(11, 17)\n",
      "<class 're.Match'>\n",
      "(38, 44)\n"
     ]
    }
   ],
   "source": [
    "import re\n",
    "s = \"We need to inform him with the latest information\"\n",
    "if re.search(\"inform\",s):\n",
    "    print(type(re.search(\"inform\",s)))\n",
    "    print(re.search(\"inform\",s).span())\n",
    "res = re.findall(\"inform\",s)\n",
    "print(res)\n",
    "for i in re.finditer(\"inform\",s):\n",
    "    print(type(i))\n",
    "    print(i.span())\n"
   ]
  },
  {
   "cell_type": "code",
   "execution_count": 12,
   "metadata": {},
   "outputs": [
    {
     "name": "stdout",
     "output_type": "stream",
     "text": [
      "<class 're.Match'>\n",
      "(0, 3)\n",
      "sat\n",
      "sat,hat,mat,rat\n"
     ]
    }
   ],
   "source": [
    "import re\n",
    "s = \"sat,hat,mat,pat\"\n",
    "res = re.finditer(\"[^h-p]at\",s)\n",
    "for i in res:\n",
    "    print(type(i))\n",
    "    print(i.span())\n",
    "    print(i.group())\n",
    "reg = re.compile(\"[p]at\")\n",
    "newRes = reg.sub(\"rat\",s)\n",
    "print(newRes)"
   ]
  },
  {
   "cell_type": "code",
   "execution_count": 13,
   "metadata": {},
   "outputs": [
    {
     "name": "stdout",
     "output_type": "stream",
     "text": [
      "3 + 6 = 9\n",
      "4 + 5 = 9\n"
     ]
    }
   ],
   "source": [
    "a = [1,2,3,4,5,6]\n",
    "\n",
    "for i in a:\n",
    "    for j in range(i+1,len(a)+1):\n",
    "        if(i+j==9):\n",
    "            print(i,\"+\",j,\"= 9\")"
   ]
  },
  {
   "cell_type": "code",
   "execution_count": 1,
   "metadata": {},
   "outputs": [
    {
     "name": "stdout",
     "output_type": "stream",
     "text": [
      "{'Name': ['Soham', 'Antar', 'Souvik', 'Anish'], 'Specs': ['Mid-Range', 'Long-range', 'Mid-Range', 'Close-Range'], 'prim': ['M762/AKM/Scar-L/M416/AUG/Groza', 'M416/AUG/AKM', 'M762/AKM/Scar-L/M416', 'M762/AKM/Scar-L/M416/M249'], 'secn': ['DP-28/M416/AUG/Kar-98/M24', 'Mini-14/Kar-98/M24', 'M416/DP-28', 'Scar-L/M416/Kar-98/M24']}\n",
      "\n",
      "{'Name': ['Soham', 'Antar', 'Souvik', 'Anish'], 'Specs': ['Mid-Range', 'Long-range', 'Mid-Range', 'Close-Range'], 'prim': ['M762/AKM/Scar-L/M416/AUG/Groza', 'M416/AUG/AKM', 'M762/AKM/Scar-L/M416', 'M762/AKM/Scar-L/M416/M249'], 'secn': ['DP-28/M416/AUG/Kar-98/M24', 'Mini-14/Kar-98/M24', 'M416/DP-28', 'Scar-L/M416/Kar-98/M24'], 'in_game': ['Desmond', 'Nemesis', 'Savy', 'Pablo']}\n"
     ]
    },
    {
     "data": {
      "text/plain": [
       "dict_items([('Name', ['Soham', 'Antar', 'Souvik', 'Anish']), ('Specs', ['Mid-Range', 'Long-range', 'Mid-Range', 'Close-Range']), ('prim', ['M762/AKM/Scar-L/M416/AUG/Groza', 'M416/AUG/AKM', 'M762/AKM/Scar-L/M416', 'M762/AKM/Scar-L/M416/M249']), ('secn', ['DP-28/M416/AUG/Kar-98/M24', 'Mini-14/Kar-98/M24', 'M416/DP-28', 'Scar-L/M416/Kar-98/M24']), ('in_game', ['Desmond', 'Nemesis', 'Savy', 'Pablo'])])"
      ]
     },
     "execution_count": 1,
     "metadata": {},
     "output_type": "execute_result"
    }
   ],
   "source": [
    "dic = {\n",
    "    \"Name\":[\"Soham\",\"Antar\",\"Souvik\",\"Anish\"],\n",
    "    \"Specs\":[\"Mid-Range\",\"Long-range\",\"Mid-Range\",\"Close-Range\"],\n",
    "    \"prim\":[\"M762/AKM/Scar-L/M416/AUG/Groza\",\"M416/AUG/AKM\",\"M762/AKM/Scar-L/M416\",\"M762/AKM/Scar-L/M416/M249\"],\n",
    "    \"secn\":[\"DP-28/M416/AUG/Kar-98/M24\",\"Mini-14/Kar-98/M24\",\"M416/DP-28\",\"Scar-L/M416/Kar-98/M24\"]\n",
    "}\n",
    "dic[\"in_game\"] = [\"Desmond\",\"Nemesis\",\"Savy\",\"Pablo\"]\n",
    "dic1 = dic.copy()\n",
    "dic.pop(\"in_game\")\n",
    "print(dic)\n",
    "print()\n",
    "print(dic1)\n",
    "dic1.items()"
   ]
  },
  {
   "cell_type": "code",
   "execution_count": 15,
   "metadata": {},
   "outputs": [
    {
     "name": "stdout",
     "output_type": "stream",
     "text": [
      "<class 'str'>\n",
      "<class 'str'>\n",
      "<class 'str'>\n",
      "<class 'str'>\n",
      "<class 'str'>\n",
      "<class 'str'>\n"
     ]
    }
   ],
   "source": [
    "players = [\"Desmond\",\"Nemesis\",\"Savy\",\"Pablo\",\"Beast\",\"Itachi\"]\n",
    "for i in players:\n",
    "    print(type(i))"
   ]
  },
  {
   "cell_type": "code",
   "execution_count": 16,
   "metadata": {},
   "outputs": [
    {
     "name": "stdout",
     "output_type": "stream",
     "text": [
      "['Savy', 'Pablo', 'Nemesis', 'Itachi', 'Desmond', 'Beast']\n",
      "['Beast', 'Desmond', 'Itachi', 'Nemesis', 'Pablo', 'Savy']\n"
     ]
    }
   ],
   "source": [
    "players.sort()\n",
    "players.reverse()\n",
    "p = sorted(players)\n",
    "print(players)\n",
    "print(p)"
   ]
  },
  {
   "cell_type": "code",
   "execution_count": 17,
   "metadata": {},
   "outputs": [
    {
     "name": "stdout",
     "output_type": "stream",
     "text": [
      "['Savy', 'Itachi', 'Mahek']\n"
     ]
    }
   ],
   "source": [
    "res=p[-1:-7:-3]\n",
    "res.append(\"Mahek\")\n",
    "print(res)"
   ]
  },
  {
   "cell_type": "code",
   "execution_count": 6,
   "metadata": {},
   "outputs": [
    {
     "name": "stdout",
     "output_type": "stream",
     "text": [
      "0 ['Soham', 'Antar', 'Souvik', 'Anish']\n",
      "1 ['Mid-Range', 'Long-range', 'Mid-Range', 'Close-Range']\n",
      "2 ['M762/AKM/Scar-L/M416/AUG/Groza', 'M416/AUG/AKM', 'M762/AKM/Scar-L/M416', 'M762/AKM/Scar-L/M416/M249']\n",
      "3 ['DP-28/M416/AUG/Kar-98/M24', 'Mini-14/Kar-98/M24', 'M416/DP-28', 'Scar-L/M416/Kar-98/M24']\n",
      "4 ['Desmond', 'Nemesis', 'Savy', 'Pablo']\n"
     ]
    }
   ],
   "source": [
    "for v,u in enumerate(dic1.values()):\n",
    "    print(v,u)"
   ]
  },
  {
   "cell_type": "code",
   "execution_count": 19,
   "metadata": {},
   "outputs": [
    {
     "name": "stdout",
     "output_type": "stream",
     "text": [
      "0 Savy\n",
      "1 Pablo\n",
      "2 Nemesis\n",
      "3 Itachi\n",
      "4 Desmond\n",
      "5 Beast\n"
     ]
    }
   ],
   "source": [
    "for v,u in enumerate(players):\n",
    "    print(v,u)"
   ]
  },
  {
   "cell_type": "code",
   "execution_count": 20,
   "metadata": {},
   "outputs": [
    {
     "name": "stdout",
     "output_type": "stream",
     "text": [
      "['Savy', 'Pablo', 'Nemesis', 'Itachi', 'Desmond', 'Beast']\n"
     ]
    }
   ],
   "source": [
    "print(players)"
   ]
  },
  {
   "cell_type": "code",
   "execution_count": 21,
   "metadata": {},
   "outputs": [
    {
     "name": "stdout",
     "output_type": "stream",
     "text": [
      "['Savy', 'Pablo', 'Nemesis', 'Itachi', 'Desmond', 'Beast', 1]\n"
     ]
    }
   ],
   "source": [
    "players.append(1)\n",
    "print(players)"
   ]
  },
  {
   "cell_type": "code",
   "execution_count": 22,
   "metadata": {},
   "outputs": [
    {
     "name": "stdout",
     "output_type": "stream",
     "text": [
      "['Savy', 'Pablo', 'Nemesis', 'Itachi', 'Desmond', 'Beast', 1, 7, 16, 25]\n"
     ]
    }
   ],
   "source": [
    "players.extend((7,16,25))\n",
    "print(players)"
   ]
  },
  {
   "cell_type": "code",
   "execution_count": 23,
   "metadata": {},
   "outputs": [
    {
     "name": "stdout",
     "output_type": "stream",
     "text": [
      "7\n"
     ]
    }
   ],
   "source": [
    "print(players.index(7))"
   ]
  },
  {
   "cell_type": "code",
   "execution_count": 24,
   "metadata": {},
   "outputs": [
    {
     "name": "stdout",
     "output_type": "stream",
     "text": [
      "[0, 'Savy', 'Pablo', 'Nemesis', 'Itachi', 'Desmond', 'Beast', 1, 7, 16, 25]\n"
     ]
    }
   ],
   "source": [
    "players.insert(0,0)\n",
    "print(players)"
   ]
  },
  {
   "cell_type": "code",
   "execution_count": 25,
   "metadata": {},
   "outputs": [
    {
     "name": "stdout",
     "output_type": "stream",
     "text": [
      "0\n"
     ]
    }
   ],
   "source": [
    "res = players.pop(0)\n",
    "print(res)"
   ]
  },
  {
   "cell_type": "code",
   "execution_count": 26,
   "metadata": {},
   "outputs": [
    {
     "name": "stdout",
     "output_type": "stream",
     "text": [
      "[0, 'Savy', 'Pablo', 'Nemesis', 'Itachi', 'Desmond', 'Beast', 1, 7, 16, 25]\n",
      "['Savy', 'Pablo', 'Nemesis', 'Itachi', 'Desmond', 'Beast', 1, 7, 16, 25]\n"
     ]
    }
   ],
   "source": [
    "players.insert(0,0)\n",
    "print(players)\n",
    "players.remove(0)\n",
    "print(players)"
   ]
  },
  {
   "cell_type": "code",
   "execution_count": 27,
   "metadata": {},
   "outputs": [
    {
     "name": "stdout",
     "output_type": "stream",
     "text": [
      "[]\n"
     ]
    }
   ],
   "source": [
    "players.clear()\n",
    "print(players)"
   ]
  },
  {
   "cell_type": "code",
   "execution_count": 28,
   "metadata": {},
   "outputs": [
    {
     "name": "stdout",
     "output_type": "stream",
     "text": [
      "Enter the file path:D:test.txt\n",
      "Enter the mode:w\n",
      "File is overwritten\n",
      "Write your content:Hello, this is Soham an I am trying to make my family proud and reach my dreams.\n",
      "Press Y to re-run the code or N to stop executionY\n",
      "Enter the file path:D:test.txt\n",
      "Enter the mode:a\n",
      "File will not be overwritten\n",
      "Write your content:Please help me achieve my dreams.\n",
      "Press Y to re-run the code or N to stop executionY\n",
      "Enter the file path:D:test.txt\n",
      "Enter the mode:r\n",
      "Hello, this is Soham an I am trying to make my family proud and reach my dreams.Please help me achieve my dreams.\n",
      "Press Y to re-run the code or N to stop executionN\n",
      "Thank You\n"
     ]
    }
   ],
   "source": [
    "def fHandling():\n",
    "        path = input(\"Enter the file path:\")\n",
    "        mode = input(\"Enter the mode:\")\n",
    "        f = open(path,mode)\n",
    "        if(mode == \"r\"):\n",
    "            res = f.read()\n",
    "            print(res)\n",
    "            f.close()\n",
    "        elif(mode == \"w\"):\n",
    "            print(\"File is overwritten\")\n",
    "            content = input(\"Write your content:\")\n",
    "            f.write(content)\n",
    "            f.close()\n",
    "        elif(mode == \"a\"):\n",
    "            print(\"File will not be overwritten\")\n",
    "            content = input(\"Write your content:\")\n",
    "            f.write(content)\n",
    "            f.close()\n",
    "        else:\n",
    "            print(\"WRONG MODE ----- Enter the legit mode\")\n",
    "        req = input(\"Press Y to re-run the code or N to stop execution:\")\n",
    "        if(req == \"Y\"):\n",
    "            fHandling()\n",
    "        elif(req == \"N\"):\n",
    "            print(\"Thank You\")\n",
    "        else:\n",
    "            print(\"Couldn't understand your Request\")\n",
    "fHandling()"
   ]
  },
  {
   "cell_type": "code",
   "execution_count": 4,
   "metadata": {},
   "outputs": [
    {
     "name": "stdout",
     "output_type": "stream",
     "text": [
      "[11, 2, 5, 7, 3, 1, 0, 4, 6, 9, 10]\n",
      "[2, 11, 5, 7, 3, 1, 0, 4, 6, 9, 10]\n",
      "[2, 5, 11, 7, 3, 1, 0, 4, 6, 9, 10]\n",
      "[2, 5, 7, 11, 3, 1, 0, 4, 6, 9, 10]\n",
      "[2, 5, 7, 3, 11, 1, 0, 4, 6, 9, 10]\n",
      "[2, 5, 7, 3, 1, 11, 0, 4, 6, 9, 10]\n",
      "[2, 5, 7, 3, 1, 0, 11, 4, 6, 9, 10]\n",
      "[2, 5, 7, 3, 1, 0, 4, 11, 6, 9, 10]\n",
      "[2, 5, 7, 3, 1, 0, 4, 6, 11, 9, 10]\n",
      "[2, 5, 7, 3, 1, 0, 4, 6, 9, 11, 10]\n",
      "[2, 5, 7, 3, 1, 0, 4, 6, 9, 10, 11]\n",
      "[2, 5, 7, 3, 1, 0, 4, 6, 9, 10, 11]\n",
      "[2, 5, 7, 3, 1, 0, 4, 6, 9, 10, 11]\n",
      "[2, 5, 3, 7, 1, 0, 4, 6, 9, 10, 11]\n",
      "[2, 5, 3, 1, 7, 0, 4, 6, 9, 10, 11]\n",
      "[2, 5, 3, 1, 0, 7, 4, 6, 9, 10, 11]\n",
      "[2, 5, 3, 1, 0, 4, 7, 6, 9, 10, 11]\n",
      "[2, 5, 3, 1, 0, 4, 6, 7, 9, 10, 11]\n",
      "[2, 5, 3, 1, 0, 4, 6, 7, 9, 10, 11]\n",
      "[2, 5, 3, 1, 0, 4, 6, 7, 9, 10, 11]\n",
      "[2, 5, 3, 1, 0, 4, 6, 7, 9, 10, 11]\n",
      "[2, 3, 5, 1, 0, 4, 6, 7, 9, 10, 11]\n",
      "[2, 3, 1, 5, 0, 4, 6, 7, 9, 10, 11]\n",
      "[2, 3, 1, 0, 5, 4, 6, 7, 9, 10, 11]\n",
      "[2, 3, 1, 0, 4, 5, 6, 7, 9, 10, 11]\n",
      "[2, 3, 1, 0, 4, 5, 6, 7, 9, 10, 11]\n",
      "[2, 3, 1, 0, 4, 5, 6, 7, 9, 10, 11]\n",
      "[2, 3, 1, 0, 4, 5, 6, 7, 9, 10, 11]\n",
      "[2, 3, 1, 0, 4, 5, 6, 7, 9, 10, 11]\n",
      "[2, 1, 3, 0, 4, 5, 6, 7, 9, 10, 11]\n",
      "[2, 1, 0, 3, 4, 5, 6, 7, 9, 10, 11]\n",
      "[2, 1, 0, 3, 4, 5, 6, 7, 9, 10, 11]\n",
      "[2, 1, 0, 3, 4, 5, 6, 7, 9, 10, 11]\n",
      "[2, 1, 0, 3, 4, 5, 6, 7, 9, 10, 11]\n",
      "[2, 1, 0, 3, 4, 5, 6, 7, 9, 10, 11]\n",
      "[1, 2, 0, 3, 4, 5, 6, 7, 9, 10, 11]\n",
      "[1, 0, 2, 3, 4, 5, 6, 7, 9, 10, 11]\n",
      "[1, 0, 2, 3, 4, 5, 6, 7, 9, 10, 11]\n",
      "[1, 0, 2, 3, 4, 5, 6, 7, 9, 10, 11]\n",
      "[1, 0, 2, 3, 4, 5, 6, 7, 9, 10, 11]\n",
      "[1, 0, 2, 3, 4, 5, 6, 7, 9, 10, 11]\n",
      "[0, 1, 2, 3, 4, 5, 6, 7, 9, 10, 11]\n",
      "[0, 1, 2, 3, 4, 5, 6, 7, 9, 10, 11]\n",
      "[0, 1, 2, 3, 4, 5, 6, 7, 9, 10, 11]\n",
      "[0, 1, 2, 3, 4, 5, 6, 7, 9, 10, 11]\n",
      "[0, 1, 2, 3, 4, 5, 6, 7, 9, 10, 11]\n",
      "[0, 1, 2, 3, 4, 5, 6, 7, 9, 10, 11]\n",
      "[0, 1, 2, 3, 4, 5, 6, 7, 9, 10, 11]\n",
      "[0, 1, 2, 3, 4, 5, 6, 7, 9, 10, 11]\n",
      "[0, 1, 2, 3, 4, 5, 6, 7, 9, 10, 11]\n",
      "[0, 1, 2, 3, 4, 5, 6, 7, 9, 10, 11]\n",
      "[0, 1, 2, 3, 4, 5, 6, 7, 9, 10, 11]\n",
      "[0, 1, 2, 3, 4, 5, 6, 7, 9, 10, 11]\n",
      "[0, 1, 2, 3, 4, 5, 6, 7, 9, 10, 11]\n",
      "[0, 1, 2, 3, 4, 5, 6, 7, 9, 10, 11]\n",
      "[0, 1, 2, 3, 4, 5, 6, 7, 9, 10, 11]\n"
     ]
    }
   ],
   "source": [
    "def bubbleSort(arr):\n",
    "    print(arr)\n",
    "    for i in range(len(l)):\n",
    "        for j in range(len(l)-i-1):\n",
    "            if(arr[j]>arr[j+1]):\n",
    "                temp = arr[j+1]\n",
    "                arr[j+1] = arr[j]\n",
    "                arr[j] = temp\n",
    "            print(arr)\n",
    "l = [11,2,5,7,3,1,0,4,6,9,10]\n",
    "bubbleSort(l)"
   ]
  },
  {
   "cell_type": "code",
   "execution_count": 5,
   "metadata": {},
   "outputs": [
    {
     "name": "stdout",
     "output_type": "stream",
     "text": [
      "[11, 2, 5, 7, 3, 1, 0, 4, 6, 9, 10]\n",
      "[0, 2, 5, 7, 3, 1, 11, 4, 6, 9, 10]\n",
      "[0, 1, 5, 7, 3, 2, 11, 4, 6, 9, 10]\n",
      "[0, 1, 2, 7, 3, 5, 11, 4, 6, 9, 10]\n",
      "[0, 1, 2, 3, 7, 5, 11, 4, 6, 9, 10]\n",
      "[0, 1, 2, 3, 4, 5, 11, 7, 6, 9, 10]\n",
      "[0, 1, 2, 3, 4, 5, 11, 7, 6, 9, 10]\n",
      "[0, 1, 2, 3, 4, 5, 6, 7, 11, 9, 10]\n",
      "[0, 1, 2, 3, 4, 5, 6, 7, 11, 9, 10]\n",
      "[0, 1, 2, 3, 4, 5, 6, 7, 9, 11, 10]\n",
      "[0, 1, 2, 3, 4, 5, 6, 7, 9, 10, 11]\n",
      "[0, 1, 2, 3, 4, 5, 6, 7, 9, 10, 11]\n"
     ]
    }
   ],
   "source": [
    "def selectionSort(arr):\n",
    "    print(arr)\n",
    "    for i in range(len(l)):\n",
    "        minpos = i\n",
    "        for j in range(i,len(l)):\n",
    "            if(arr[j]<arr[minpos]):\n",
    "                minpos = j\n",
    "        temp = arr[i]\n",
    "        arr[i] = arr[minpos]\n",
    "        arr[minpos] = temp\n",
    "        print(arr)\n",
    "l = [11,2,5,7,3,1,0,4,6,9,10]\n",
    "selectionSort(l)\n",
    "        "
   ]
  },
  {
   "cell_type": "code",
   "execution_count": 14,
   "metadata": {},
   "outputs": [
    {
     "name": "stdout",
     "output_type": "stream",
     "text": [
      "[11, 2, 5, 7, 3, 1, 0, 4, 6, 9, 10]\n",
      "[10, 2, 5, 7, 3, 1, 0, 4, 6, 9, 11]\n",
      "[9, 2, 5, 7, 3, 1, 0, 4, 6, 10, 11]\n",
      "[6, 2, 5, 7, 3, 1, 0, 4, 9, 10, 11]\n",
      "[6, 2, 5, 4, 3, 1, 0, 7, 9, 10, 11]\n",
      "[0, 2, 5, 4, 3, 1, 6, 7, 9, 10, 11]\n",
      "[0, 2, 1, 4, 3, 5, 6, 7, 9, 10, 11]\n",
      "[0, 2, 1, 3, 4, 5, 6, 7, 9, 10, 11]\n",
      "[0, 2, 1, 3, 4, 5, 6, 7, 9, 10, 11]\n",
      "[0, 1, 2, 3, 4, 5, 6, 7, 9, 10, 11]\n"
     ]
    }
   ],
   "source": [
    "def selectionSort(arr):\n",
    "    print(arr)\n",
    "    for i in range(len(l)-1,1,-1):\n",
    "        maxpos = i\n",
    "        for j in range(i,-1,-1):\n",
    "            if(arr[j]>arr[maxpos]):\n",
    "                maxpos = j\n",
    "        temp = arr[maxpos]\n",
    "        arr[maxpos] = arr[i]\n",
    "        arr[i] = temp\n",
    "        print(arr)\n",
    "l = [11,2,5,7,3,1,0,4,6,9,10]\n",
    "selectionSort(l)"
   ]
  },
  {
   "cell_type": "code",
   "execution_count": null,
   "metadata": {},
   "outputs": [],
   "source": [
    "def insertionSort(arr):\n",
    "    print(arr)\n",
    "    for i in range(1,len(arr)):\n",
    "        val = arr[i]\n",
    "        j = i-1\n",
    "        while(j>=0):\n",
    "            if(arr[j]>val):\n",
    "                arr[j+1] = arr[j]\n",
    "                arr[j] = val\n",
    "                j = j-1\n",
    "            else:\n",
    "                break\n",
    "            print(arr)\n",
    "l = [11,2,5,7,3,1,0,4,6,9,10]\n",
    "insertionSort(l)"
   ]
  },
  {
   "cell_type": "code",
   "execution_count": null,
   "metadata": {},
   "outputs": [],
   "source": []
  }
 ],
 "metadata": {
  "kernelspec": {
   "display_name": "Python 3",
   "language": "python",
   "name": "python3"
  },
  "language_info": {
   "codemirror_mode": {
    "name": "ipython",
    "version": 3
   },
   "file_extension": ".py",
   "mimetype": "text/x-python",
   "name": "python",
   "nbconvert_exporter": "python",
   "pygments_lexer": "ipython3",
   "version": "3.7.4"
  }
 },
 "nbformat": 4,
 "nbformat_minor": 2
}
